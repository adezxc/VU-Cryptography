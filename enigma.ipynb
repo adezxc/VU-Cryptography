{
 "cells": [
  {
   "cell_type": "code",
   "execution_count": 18,
   "metadata": {},
   "outputs": [],
   "source": [
    "import string\n",
    "\n",
    "abc='ABCDEFGHIJKLMNOPQRSTUVWXYZ'"
   ]
  },
  {
   "cell_type": "code",
   "execution_count": 161,
   "metadata": {},
   "outputs": [],
   "source": [
    "def numerify(text):\n",
    "    res = []\n",
    "    for letter in text:\n",
    "        num = abc.index(letter)\n",
    "        res.append(num)\n",
    "    return res\n",
    "\n",
    "def stringify(numbers):\n",
    "    res = ''\n",
    "    for number in numbers:\n",
    "        letter = abc[number]\n",
    "        res += letter\n",
    "    return res\n",
    "\n",
    "def rot(m, a):\n",
    "    return (a+m) % len(abc)\n",
    "\n",
    "def rsubst(rot, a):\n",
    "    return rot.index(a)\n",
    "\n",
    "def deEnigma(key, L1, L2, ciphertext):\n",
    "    cipherVals = numerify(ciphertext)\n",
    "    messageVals = []\n",
    "    m1 = key[0]\n",
    "    m2 = key[1]\n",
    "    rIdx = 0\n",
    "\n",
    "    for cipherVal in cipherVals:\n",
    "        val = cipherVal\n",
    "        \n",
    "        val = rot(m2, val)\n",
    "        val = rsubst(L2, val)\n",
    "\n",
    "        val = rot(m1, val)\n",
    "        val = rot(-m2, val)\n",
    "        \n",
    "        val = rsubst(L1, val)\n",
    "        val = rot(-m1, val)\n",
    "\n",
    "        m1 += 1\n",
    "        rIdx += 1\n",
    "        if (rIdx % len(alphabet)) == 0:\n",
    "            m2 += 1\n",
    "\n",
    "        messageVals.append(val)\n",
    "\n",
    "    return stringify(messageVals)\n",
    "\n",
    "def deEnigmaReflect(key, L1, L2, r, ciphertext):\n",
    "    cipherVals = numerify(ciphertext)\n",
    "    messageVals = []\n",
    "    m1 = key[0]\n",
    "    m2 = key[1]\n",
    "    rIdx = 0\n",
    "\n",
    "    for cipherVal in cipherVals:\n",
    "        val = cipherVal\n",
    "\n",
    "        val = rot(m1, val)\n",
    "        val = L1[val]\n",
    "        val = rot(m2, val)\n",
    "        val = rot(-m1, val)\n",
    "        val = L2[val]\n",
    "        val = rot(-m2, val)\n",
    "\n",
    "        val = r[val]\n",
    "\n",
    "        val = rot(m2, val)\n",
    "        val = rsubst(L2, val)\n",
    "\n",
    "        val = rot(m1, val)\n",
    "        val = rot(-m2, val)\n",
    "        \n",
    "        val = rsubst(L1, val)\n",
    "        val = rot(-m1, val)\n",
    "\n",
    "        \n",
    "\n",
    "        m1 += 1\n",
    "        rIdx += 1\n",
    "        if (rIdx % len(alphabet)) == 0:\n",
    "            m2 += 1\n",
    "\n",
    "        messageVals.append(val)\n",
    "\n",
    "    return stringify(messageVals)\n",
    "\n",
    "\n"
   ]
  },
  {
   "cell_type": "markdown",
   "metadata": {},
   "source": [
    "### First task"
   ]
  },
  {
   "cell_type": "code",
   "execution_count": 160,
   "metadata": {},
   "outputs": [
    {
     "name": "stdout",
     "output_type": "stream",
     "text": [
      "SKLIAUTUOTOJEKRAUTUVELEJESEDIPIRKLYSIRSKAICIUOJASIDABRINIUSANTSTALODELNEVISSVERDAMASZIBANCIUSPINIGUSTACIAUPOSTALUKIUTOGILTINEIRTUOMETUKAIPIRKLYSVISASPASINERESISAVUJUTURTUREGINIATSILOSIAIRIMAGLOSTINETISBARZDAGILTINEISAPACIOSSTAIGATAIPTRENKIADELNUPERSTALOKRASTAKADKAULIUKAINEBEISSILAIKOSUKIBEISLAKSTOISALISPAZYRAIRSUSIMAISOSUSIDABRU\n"
     ]
    }
   ],
   "source": [
    "input = \"\"\"SWTZL WYFHZ RDKYX UVCHV HUKGF \n",
    "SYAFH ORDTI HMABV KYONW KYRLX \n",
    "KWHKC VIEIF XUWYY MNZYH ONLXA \n",
    "XBRZV FIHPG LLXNX IKXJS CBLLR \n",
    "TGYLG TIOWU XTAEQ WRTFJ QNQOO \n",
    "SQKNJ ZTSVS KLXLV WDFQH BPWMI \n",
    "QCCHV VYDRR SFDRK OFAIO POONZ \n",
    "YUXLO AYWPV JQSFF JPUOK SYJFI \n",
    "CKHLH ZYXTI KZNTA ZGQFD REDMU \n",
    "OALJD OZZDA VNXVP SVRRB IHCKW \n",
    "EPIOI ACKDL WXXPX LIBSF IOXUX \n",
    "NVLIQ ZXLQJ PPJLA FYPDK YYFCA \n",
    "TPEPJ FJTBL RIYCQ GFUQG XZMXU \n",
    "LIELY\"\"\"\n",
    "\n",
    "sanitizedInput = input.translate({ord(c): None for c in string.whitespace})\n",
    "\n",
    "lambda_1 = [14, 2, 7, 20, 18, 9, 19, 25, 23, 1, 13, 17, 22, 5, 3, 0, 24, 8, 21, 10, 11, 12, 15, 4, 6, 16]\n",
    "lambda_2 = [5, 3, 2, 0, 17, 10, 8, 24, 20, 11, 1, 12, 9, 22, 16, 6, 25, 4, 18, 21, 7, 13, 15, 23, 19, 14]\n",
    "\n",
    "print(deEnigma([3,4], lambda_1, lambda_2, sanitizedInput))"
   ]
  },
  {
   "cell_type": "markdown",
   "metadata": {},
   "source": [
    "### Second task"
   ]
  },
  {
   "cell_type": "code",
   "execution_count": 38,
   "metadata": {},
   "outputs": [
    {
     "name": "stdout",
     "output_type": "stream",
     "text": [
      "JEMWLFCVYMDDUZSEQOBXBUDZFVHXJXPYFUNZRHJGTEHLAJIZCZXXLJTAPCUFIVPFWOJMEDQFDHPALFSUEPTNMOYFRZGFCISKLZMTFKXGISLCEPNMACQBMGXGDUGOSITRKHBLXXLMYXZTYDFVMCEEINSMIQHRZLGDCAJLTOKONQHUUHYQLDRYADMAFHYDMUKBIDUADUQTPNDCUZTQWQSWVKSU\n",
      "JIEZVILGALYGPINIGELIAIIRPIRKLYSAPAKESGODZIAIJUOSGRIEBIASUSIRENKASAUJONOTENKAULIUKAIVELSUSIDESTODAIKTANIRPIRKLYSPAMATOBELAIKASPLASTAKAOTOJIPLASTAKASUKIBUSISURANKAIRTADAGILTINEATSISTOJAKITAPUSSTALOIRISMEIGIAIPIRKLIAKIS\n"
     ]
    }
   ],
   "source": [
    "input = \"\"\"\n",
    "TSBZY OKWKW CEARF DBMFW JOILE \n",
    "FHQUR DTYCG LEWHJ PLYYN IQKMJ \n",
    "TLGLI HLVTN MDSOY ZVEPM EQPPF \n",
    "RHMJQ BVXEY XRPXN SUIUE FYOTQ \n",
    "KCOEJ EDCFX JAPVJ TZQQE GGSHP \n",
    "CYMRL UVNWF JFGSA LNYHX AUNPA \n",
    "PHIGV BQXHR HAFZK ZCDLE VBFZG \n",
    "CKAKY JLEXA IJSTN YVUZN QWYEE \n",
    "NTGXR CIVGP DYALU G\n",
    "\"\"\"\n",
    "\n",
    "sanitizedInput = input.translate({ord(c): None for c in string.whitespace})\n",
    "\n",
    "\n",
    "lambda_1 =[8, 13, 24, 18, 9, 0, 7, 14, 10, 11, 19, 25, 4, 17, 12, 21, 15, 3, 22, 2, 20, 16, 23, 1, 6, 5]\n",
    "lambda_2 =[10, 2, 21, 18, 23, 6, 16, 14, 8, 11, 1, 25, 15, 20, 0, 24, 17, 19, 22, 5, 4, 3, 9, 12, 13, 7]\n",
    "\n",
    "for i in range(0, 25):\n",
    "    result = deEnigma([12, i], lambda_1, lambda_2, sanitizedInput)\n",
    "    if result[0] == 'J':\n",
    "        print(result)"
   ]
  },
  {
   "cell_type": "code",
   "execution_count": 162,
   "metadata": {},
   "outputs": [
    {
     "name": "stdout",
     "output_type": "stream",
     "text": [
      "JIEZVILGALYGPINIGELIAIIRPIRKLYSAPAKESGODZIAIJUOSGRIEBIASUSIRENKASAUJONOTENKAULIUKAIVELSUSIDESTODAIKTANIRPIRKLYSPAMATOBELAIKASPLASTAKAOTOJIPLASTAKASUKIBUSISURANKAIRTADAGILTINEATSISTOJAKITAPUSSTALOIRISMEIGIAIPIRKLIAKIS \n",
      "\n"
     ]
    }
   ],
   "source": [
    "input = \"\"\"\n",
    "BRLLM DUIHG AWIXM DCLFJ EVPIY \n",
    "PYGAV CGUWF AZUNM SSRVP XRJIA \n",
    "TATGR YTEDK XZDWI VEZWP UFNIT \n",
    "EYEXV IFRBH SVVIK CQHYN HGEXM \n",
    "KWTBT GMVBX XWKYP ASJUZ LEJNM \n",
    "JZDGF NSGZU ACOZS DTQGC GOTJY \n",
    "OSUWO NVYHA UKSZX ZXDFN ZZYUT \n",
    "ZHEUX BDSSH YGFHZ LGJZL RZOJS \n",
    "UAXAS WSQIP BUZDS Z\n",
    "\"\"\"\n",
    "\n",
    "sanitizedInput = input.translate({ord(c): None for c in string.whitespace})\n",
    "\n",
    "lambda_1=[14, 2, 7, 20, 18, 9, 19, 25, 23, 1, 13, 17, 22, 5, 3, 0, 24, 8, 21, 10, 11, 12, 15, 4, 6, 16]\n",
    "lambda_2=[5, 3, 2, 0, 17, 10, 8, 24, 20, 11, 1, 12, 9, 22, 16, 6, 25, 4, 18, 21, 7, 13, 15, 23, 19, 14]\n",
    "reflect=[2, 4, 0, 6, 1, 11, 3, 8, 7, 13, 16, 5, 15, 9, 18, 12, 10, 19, 14, 17, 25, 22, 21, 24, 23, 20]\n",
    "\n",
    "print(deEnigmaReflect([21, 19], lambda_1, lambda_2, reflect, sanitizedInput),\"\\n\")"
   ]
  }
 ],
 "metadata": {
  "kernelspec": {
   "display_name": "Python 3.10.6 64-bit",
   "language": "python",
   "name": "python3"
  },
  "language_info": {
   "codemirror_mode": {
    "name": "ipython",
    "version": 3
   },
   "file_extension": ".py",
   "mimetype": "text/x-python",
   "name": "python",
   "nbconvert_exporter": "python",
   "pygments_lexer": "ipython3",
   "version": "3.10.7"
  },
  "orig_nbformat": 4,
  "vscode": {
   "interpreter": {
    "hash": "e7370f93d1d0cde622a1f8e1c04877d8463912d04d973331ad4851f04de6915a"
   }
  }
 },
 "nbformat": 4,
 "nbformat_minor": 2
}
