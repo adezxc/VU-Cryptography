{
 "cells": [
  {
   "cell_type": "code",
   "execution_count": 1,
   "metadata": {},
   "outputs": [],
   "source": [
    "import numpy as np\n",
    "\n",
    "alphabet = 'ABCDEFGHIJKLMNOPQRSTUVWXYZ'\n",
    "\n",
    "def letterize(numbers):\n",
    "    return chr(numbers[1]) + chr(numbers[0])\n",
    "\n",
    "def roundFunction(twoNumbers, k, f):\n",
    "    r = twoNumbers[1]\n",
    "    l = twoNumbers[0] ^ eval(f)\n",
    "    return [r, l]"
   ]
  },
  {
   "cell_type": "markdown",
   "metadata": {},
   "source": [
    "### First task\n",
    "\n",
    "1. Feistelio šifro su trimis iteracijomis raktas =[88, 254, 174]\n",
    "Iteracijos funkcija (m^k)&((k//16)|m)\n",
    "Iššifruokite šifrą  sudarytą EBC režimu\n",
    "[[5, 68], [14, 79], [16, 91], [11, 79], [16, 87], [20, 95], [0, 93], [19, 95], [11, 79], [14, 79], [25, 93], [4, 69], [29, 64], [27, 69], [5, 92], [20, 68], [23, 91], [19, 84], [9, 77], [0, 75], [17, 76], [18, 87], [17, 78], [5, 67], [13, 82], [25, 69], [1, 90], [25, 68], [0, 91], [15, 73], [2, 71], [16, 81], [7, 79], [8, 67], [16, 87], [13, 74], [21, 95], [27, 69], [14, 79], [17, 75], [4, 71], [13, 71], [19, 95], [18, 87], [29, 64], [27, 69], [19, 95], [29, 64], [3, 92], [21, 74], [1, 90], [15, 73], [20, 81], [14, 71], [22, 81], [21, 87], [2, 94], [5, 71], [21, 74], [5, 69], [13, 74], [15, 73], [4, 91], [4, 93], [19, 95], [21, 85], [2, 92], [4, 79], [21, 95], [2, 94], [18, 87], [19, 87], [21, 74], [3, 93], [18, 85], [14, 83], [1, 74], [112, 45]]\n"
   ]
  },
  {
   "cell_type": "code",
   "execution_count": 3,
   "metadata": {},
   "outputs": [
    {
     "name": "stdout",
     "output_type": "stream",
     "text": [
      "JEINETIKIPATSPASIKINKYKDVISKRUZDESJSKIEDRAIRPAMATYSITURIUTOKIBOTAGELIPLIAUSKINUEIDAMASIRVISKASVIRSTATUOKOPANORIUPRIETAKELIOKUPSTASKURRADAUPRIRISTASSKRUZDES \n"
     ]
    }
   ],
   "source": [
    "key = [88, 254, 174]\n",
    "ciphertext = [[5, 68], [14, 79], [16, 91], [11, 79], [16, 87], [20, 95], [0, 93], [19, 95], [11, 79], \n",
    "    [14, 79], [25, 93], [4, 69], [29, 64], [27, 69], \n",
    "    [5, 92], [20, 68], [23, 91], [19, 84], [9, 77], [0, 75], [17, 76], [18, 87], \n",
    "    [17, 78], [5, 67], [13, 82], [25, 69], [1, 90], [25, 68], [0, 91], [15, 73], [2, 71], [16, 81], [7, 79], \n",
    "    [8, 67], [16, 87], [13, 74], [21, 95], [27, 69], [14, 79], [17, 75], [4, 71], [13, 71], [19, 95], [18, 87], \n",
    "    [29, 64], [27, 69], [19, 95], [29, 64], [3, 92], [21, 74], [1, 90], [15, 73], [20, 81], [14, 71], [22, 81], \n",
    "    [21, 87], [2, 94], [5, 71], [21, 74], [5, 69], [13, 74], [15, 73], [4, 91], [4, 93], [19, 95], [21, 85], \n",
    "[2, 92], [4, 79], [21, 95], [2, 94], [18, 87], [19, 87], [21, 74], [3, 93], [18, 85], [14, 83], [1, 74], [112, 45]]\n",
    "\n",
    "f = '(r^k)&((k//16)|r)'\n",
    "\n",
    "text = ''\n",
    "for numbers in ciphertext:\n",
    "    numbers = roundFunction(numbers, key[2],f)\n",
    "    numbers = roundFunction(numbers, key[1], f)\n",
    "    numbers = roundFunction(numbers, key[0], f)\n",
    "    text += letterize(numbers)\n",
    "\n",
    "print(text)\n",
    "text = ''"
   ]
  },
  {
   "cell_type": "markdown",
   "metadata": {},
   "source": [
    "### Second task\n",
    "\n",
    "2. Feistelio šifro su trimis iteracijomis raktas =[88, 254, 174]\n",
    "Iteracijos funkcija (m^k)&((k//16)|m) inicializacijos vektorius [191, 167]\n",
    "Iššifruokite šifrą  sudarytą CBC režimu\n",
    "[[8, 237], [238, 189], [70, 245], [185, 181], [18, 226], [227, 172], [73, 225], [180, 165], [16, 228], [229, 174], [87, 247], [174, 182], [2, 238], [234, 173], [88, 253], [160, 177], [4, 239], [242, 170], [78, 255], [180, 191], [2, 251], [251, 164], [64, 244], [178, 173], [16, 233], [239, 178], [86, 254], [185, 169], [16, 236], [231, 170], [74, 242], [189, 179], [8, 242], [241, 165], [68, 242], [185, 190], [1, 254], [229, 188], [81, 250], [190, 183], [27, 253], [232, 182], [87, 250], [183, 186], [13, 226], [245, 186], [66, 240], [185, 181], [4, 243], [232, 178], [79, 248], [173, 186], [15, 251], [238, 186], [70, 245], [184, 185], [18, 244], [233, 181], [68, 247], [162, 190], [17, 247], [230, 182], [91, 251], [186, 185], [4, 250], [254, 160], [88, 233], [178, 175], [123, 139]]\n"
   ]
  },
  {
   "cell_type": "code",
   "execution_count": 32,
   "metadata": {},
   "outputs": [
    {
     "name": "stdout",
     "output_type": "stream",
     "text": [
      "[84, 79]\n",
      "\n"
     ]
    }
   ],
   "source": [
    "key = [88, 254, 174]\n",
    "vector = [191, 167]\n",
    "ciphertext = [[8, 237], [238, 189], [70, 245], [185, 181], [18, 226], [227, 172], [73, 225], [180, 165], [16, 228], \n",
    "[229, 174], [87, 247], [174, 182], [2, 238], [234, 173], [88, 253], [160, 177], [4, 239], [242, 170], [78, 255], \n",
    "[180, 191], [2, 251], [251, 164], [64, 244], [178, 173], [16, 233], [239, 178], [86, 254], [185, 169], [16, 236], \n",
    "[231, 170], [74, 242], [189, 179], [8, 242], [241, 165], [68, 242], [185, 190], [1, 254], [229, 188], [81, 250], \n",
    "[190, 183], [27, 253], [232, 182], [87, 250], [183, 186], [13, 226], [245, 186], [66, 240], [185, 181], [4, 243], \n",
    "[232, 178], [79, 248], [173, 186], [15, 251], [238, 186], [70, 245], [184, 185], [18, 244], [233, 181], [68, 247], \n",
    "[162, 190], [17, 247], [230, 182], [91, 251], [186, 185], [4, 250], [254, 160], [88, 233], [178, 175], [123, 139]]\n",
    "\n",
    "f = '(r^k)&((k//16)|r)'\n",
    "\n",
    "\n",
    "text = ''\n",
    "for numbers in ciphertext:\n",
    "    lastNumbers = numbers\n",
    "    numbers = roundFunction(numbers, key[2],f)\n",
    "    numbers = roundFunction(numbers, key[1], f)\n",
    "    numbers = roundFunction(numbers, key[0], f)\n",
    "    numbers = [numbers[1], numbers[0]]\n",
    "    if lastNumbers == ciphertext[0]:\n",
    "        numbers = [numbers[0] ^ vector[0], numbers[1] ^ vector[1]]\n",
    "        print(numbers)\n",
    "    else:\n",
    "        numbers = [numbers[0] ^ lastNumbers[0], numbers[1] ^ lastNumbers[1]]\n",
    "    if numbers[1] < 27:\n",
    "        \n",
    "    text += alphabet[numbers[1]]\n",
    "    \n",
    "\n",
    "\n",
    "\n",
    "print(text)\n",
    "text = ''"
   ]
  },
  {
   "cell_type": "code",
   "execution_count": 12,
   "metadata": {},
   "outputs": [
    {
     "name": "stdout",
     "output_type": "stream",
     "text": [
      "10 5\n"
     ]
    }
   ],
   "source": []
  }
 ],
 "metadata": {
  "kernelspec": {
   "display_name": "Python 3.10.7 64-bit",
   "language": "python",
   "name": "python3"
  },
  "language_info": {
   "codemirror_mode": {
    "name": "ipython",
    "version": 3
   },
   "file_extension": ".py",
   "mimetype": "text/x-python",
   "name": "python",
   "nbconvert_exporter": "python",
   "pygments_lexer": "ipython3",
   "version": "3.10.7"
  },
  "orig_nbformat": 4,
  "vscode": {
   "interpreter": {
    "hash": "e7370f93d1d0cde622a1f8e1c04877d8463912d04d973331ad4851f04de6915a"
   }
  }
 },
 "nbformat": 4,
 "nbformat_minor": 2
}
