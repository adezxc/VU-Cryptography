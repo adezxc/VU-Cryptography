{
 "cells": [
  {
   "cell_type": "markdown",
   "metadata": {},
   "source": [
    "1. AES-V parametrai: `p=317`, `[a,b]=[13, 15]`, `T=[1, 11, 31, 4]`. Raktas K=`[225, 266, 130, 284]`\n",
    " \n",
    " Iššifruokite šifrą `C=[[151, 312, 240, 249], [123, 9, 177, 315], [21, 307, 211, 109], [316, 18, 5, 202], [309, 207, 72, 92], [246, 157, 32, 196], [287, 218, 123, 33], [267, 136, 46, 281], [298, 15, 22, 187], [12, 122, 241, 224], [94, 314, 299, 252], [81, 226, 223, 93], [242, 259, 6, 20], [107, 148, 135, 218], [233, 284, 90, 287], [152, 308, 15, 300], [162, 308, 123, 297], [314, 9, 299, 281], [288, 34, 171, 233], [32, 193, 15, 277], [235, 1, 40, 245], [249, 116, 92, 145], [267, 28, 140, 255], [82, 140, 88, 218], [159, 313, 136, 299], [314, 236, 207, 98], [117, 143, 21, 129], [139, 266, 233, 93], [128, 104, 204, 157], [229, 118, 73, 127], [250, 154, 294, 271], [207, 177, 26, 71], [243, 11, 252, 199], [80, 199, 158, 8], [36, 161, 43, 41], [85, 305, 190, 31], [104, 91, 202, 22], [210, 70, 120, 130], [18, 202, 125, 312]]`\n",
    "\n",
    "  Generate key from [here](https://sagecell.sagemath.org/?z=eJxNz-EKwiAQB_DvPsVBDBY7yNMiCHwCH0EkNjIaRpPpPuztuxZryX3xd6f-vYU72DBfU22xxW5_EcCrZ3TaGyMvEKXpFgzPHJZtbZ30Td0ePjNVarp9lbiWoUimjrKxjvyPFBMxqY00k2o-51caQ5nGF7goMRJGhVF7IW7feGs42MEwlTSVDOURIE9dDHOG-zBCX8LYln54ZVjus2T-__U1tRptuD5skdUqL5LRdBbcN6QR6CSscYQKNR450ZbmDePhUrk=&lang=sage&interacts=eJyLjgUAARUAuQ==)\n",
    "\n",
    "  Generate T_inverse from [here](https://www.dcode.fr/matrix-inverse)\n",
    "\n",
    "\n"
   ]
  },
  {
   "cell_type": "code",
   "execution_count": 109,
   "metadata": {},
   "outputs": [],
   "source": [
    "def letterize(numbers):\n",
    "    return chr(numbers[0]) + chr(numbers[1]) + chr(numbers[2]) + chr(numbers[3])"
   ]
  },
  {
   "cell_type": "markdown",
   "metadata": {},
   "source": [
    "## Encryption functions"
   ]
  },
  {
   "cell_type": "code",
   "execution_count": null,
   "metadata": {},
   "outputs": [],
   "source": [
    "def firstLayerEnc(block, a, b, p):\n",
    "    returnblock= [0,0,0,0]\n",
    "    returnblock[0] = ((a * pow(block[0], -1, p)) + b) % p\n",
    "    returnblock[1] = ((a * pow(block[1], -1, p)) + b) % p\n",
    "    returnblock[2] = ((a * pow(block[2], -1, p)) + b) % p\n",
    "    returnblock[3] = ((a * pow(block[3], -1, p)) + b) % p\n",
    "    return returnblock\n",
    "\n",
    "def secondLayerEnc(block):\n",
    "    return [\n",
    "        block[0],\n",
    "        block[1],\n",
    "        block[3],\n",
    "        block[2]\n",
    "    ]\n",
    "\n",
    "def thirdLayerEnc(t, block, p):\n",
    "    return [\n",
    "        (t[0] * block[0] + t[1] * block[2]) % p,\n",
    "        (t[0] * block[1] + t[1] * block[3]) % p,\n",
    "        (t[2] * block[0] + t[3] * block[2]) % p,\n",
    "        (t[2] * block[1] + t[3] * block[3]) % p,\n",
    "    ]\n",
    "\n",
    "def fourthLayerEnc(key, block):\n",
    "    return [\n",
    "        (block[0] + key[0]) % p,\n",
    "        (block[1] + key[1]) % p,\n",
    "        (block[2] + key[2]) % p,\n",
    "        (block[3] + key[3]) % p,\n",
    "    ]"
   ]
  },
  {
   "cell_type": "markdown",
   "metadata": {},
   "source": [
    "## Decryption functions"
   ]
  },
  {
   "cell_type": "code",
   "execution_count": 107,
   "metadata": {},
   "outputs": [],
   "source": [
    "def firstLayer(block, a, b, p):\n",
    "    returnblock= [0, 0, 0, 0]\n",
    "    if block[0] != b: returnblock[0] = pow(((block[0] - b) * pow(a, -1, p)), -1, p)\n",
    "    if block[1] != b: returnblock[1] = pow(((block[1] - b) * pow(a, -1, p)), -1, p)\n",
    "    if block[2] != b: returnblock[2] = pow(((block[2] - b) * pow(a, -1, p)), -1, p)\n",
    "    if block[3] != b: returnblock[3] = pow(((block[3] - b) * pow(a, -1, p)), -1, p)\n",
    "    return returnblock\n",
    "\n",
    "def secondLayer(block):\n",
    "    return [\n",
    "        block[0],\n",
    "        block[1],\n",
    "        block[3],\n",
    "        block[2]\n",
    "    ]\n",
    "\n",
    "def thirdLayer(t, block, p):\n",
    "    return [\n",
    "        (t[0] * block[0] + t[1] * block[2]) % p,\n",
    "        (t[0] * block[1] + t[1] * block[3]) % p,\n",
    "        (t[2] * block[0] + t[3] * block[2]) % p,\n",
    "        (t[2] * block[1] + t[3] * block[3]) % p,\n",
    "    ]\n",
    "\n",
    "def fourthLayer(key, block):\n",
    "    return [\n",
    "        (block[0] - key[0]) % p,\n",
    "        (block[1] - key[1]) % p,\n",
    "        (block[2] - key[2]) % p,\n",
    "        (block[3] - key[3]) % p,\n",
    "    ]"
   ]
  },
  {
   "cell_type": "code",
   "execution_count": 115,
   "metadata": {},
   "outputs": [
    {
     "name": "stdout",
     "output_type": "stream",
     "text": [
      "-- STARTING DECRYPTION --\n",
      "TALKOFANGELSANDHEARTHEFLUTTEROFTHEIRWINGSTELLMEWHOYOURFRIENDSAREANDILLTELLYOUWHOYOUARETELLTHETRUTHANDSHAMETHEDEVILSHAKESPEAREHENRYIVTHEAGEOFMIRACLESISPASTTA\n"
     ]
    }
   ],
   "source": [
    "ciphertext = [[151, 312, 240, 249], [123, 9, 177, 315], [21, 307, 211, 109], [316, 18, 5, 202], [309, 207, 72, 92], \n",
    "[246, 157, 32, 196], [287, 218, 123, 33], [267, 136, 46, 281], [298, 15, 22, 187], [12, 122, 241, 224], [94, 314, 299, 252], \n",
    "[81, 226, 223, 93], [242, 259, 6, 20], [107, 148, 135, 218], [233, 284, 90, 287], [152, 308, 15, 300], [162, 308, 123, 297], \n",
    "[314, 9, 299, 281], [288, 34, 171, 233], [32, 193, 15, 277], [235, 1, 40, 245], [249, 116, 92, 145], [267, 28, 140, 255], \n",
    "[82, 140, 88, 218], [159, 313, 136, 299], [314, 236, 207, 98], [117, 143, 21, 129], [139, 266, 233, 93], [128, 104, 204, 157], \n",
    "[229, 118, 73, 127], [250, 154, 294, 271], [207, 177, 26, 71], [243, 11, 252, 199], [80, 199, 158, 8], [36, 161, 43, 41], \n",
    "[85, 305, 190, 31], [104, 91, 202, 22], [210, 70, 120, 130], [18, 202, 125, 312]]\n",
    "\n",
    "plaintext = [[151, 312, 240, 249]]\n",
    "p = 317\n",
    "a, b = 13, 15\n",
    "T = [1, 11, 31, 4]\n",
    "T_inverse = [190, 270, 271, 206]\n",
    "key = [[225, 266, 130, 284], [230, 179, 309, 276], [5, 184, 176, 135]]\n",
    "print('-- STARTING DECRYPTION --')\n",
    "text = ''\n",
    "for cipherblock in ciphertext:\n",
    "    for iter in range(2, -1, -1):\n",
    "        cipherblock = fourthLayer(key[iter], cipherblock)\n",
    "        cipherblock = thirdLayer(T_inverse, cipherblock, p)\n",
    "        cipherblock = secondLayer(cipherblock)\n",
    "        cipherblock = firstLayer(cipherblock, a, b, p)\n",
    "    text += letterize(cipherblock)\n",
    "print(text)\n",
    "\n",
    "        \n",
    "    \n",
    "    \n"
   ]
  },
  {
   "cell_type": "markdown",
   "metadata": {},
   "source": [
    "## Second task"
   ]
  },
  {
   "cell_type": "code",
   "execution_count": null,
   "metadata": {},
   "outputs": [],
   "source": [
    "key = [['?', 275, 242, 262], [163, '?', 229, 262]]\n",
    "cipherblock = [50, 233, 48, 102]\n"
   ]
  }
 ],
 "metadata": {
  "kernelspec": {
   "display_name": "Python 3",
   "language": "python",
   "name": "python3"
  },
  "language_info": {
   "codemirror_mode": {
    "name": "ipython",
    "version": 3
   },
   "file_extension": ".py",
   "mimetype": "text/x-python",
   "name": "python",
   "nbconvert_exporter": "python",
   "pygments_lexer": "ipython3",
   "version": "3.10.7"
  },
  "orig_nbformat": 4,
  "vscode": {
   "interpreter": {
    "hash": "767d51c1340bd893661ea55ea3124f6de3c7a262a8b4abca0554b478b1e2ff90"
   }
  }
 },
 "nbformat": 4,
 "nbformat_minor": 2
}
