{
 "cells": [
  {
   "cell_type": "markdown",
   "metadata": {},
   "source": [
    "1. AES-V parametrai: `p=317`, `[a,b]=[13, 15]`, `T=[1, 11, 31, 4]`. Raktas K=`[225, 266, 130, 284]`\n",
    " \n",
    " Iššifruokite šifrą `C=[[151, 312, 240, 249], [123, 9, 177, 315], [21, 307, 211, 109], [316, 18, 5, 202], [309, 207, 72, 92], [246, 157, 32, 196], [287, 218, 123, 33], [267, 136, 46, 281], [298, 15, 22, 187], [12, 122, 241, 224], [94, 314, 299, 252], [81, 226, 223, 93], [242, 259, 6, 20], [107, 148, 135, 218], [233, 284, 90, 287], [152, 308, 15, 300], [162, 308, 123, 297], [314, 9, 299, 281], [288, 34, 171, 233], [32, 193, 15, 277], [235, 1, 40, 245], [249, 116, 92, 145], [267, 28, 140, 255], [82, 140, 88, 218], [159, 313, 136, 299], [314, 236, 207, 98], [117, 143, 21, 129], [139, 266, 233, 93], [128, 104, 204, 157], [229, 118, 73, 127], [250, 154, 294, 271], [207, 177, 26, 71], [243, 11, 252, 199], [80, 199, 158, 8], [36, 161, 43, 41], [85, 305, 190, 31], [104, 91, 202, 22], [210, 70, 120, 130], [18, 202, 125, 312]]`\n",
    "\n",
    " 255, 198\n",
    " 252, 207\n",
    "\n",
    " 190, 270\n",
    " 271, 206\n"
   ]
  },
  {
   "cell_type": "code",
   "execution_count": 18,
   "metadata": {},
   "outputs": [],
   "source": [
    "def letterize(numbers):\n",
    "    return chr(numbers[0]) + chr(numbers[1]) + chr(numbers[2]) + chr(numbers[3])"
   ]
  },
  {
   "cell_type": "code",
   "execution_count": 39,
   "metadata": {},
   "outputs": [],
   "source": [
    "def createSubkey(key, a, b, p):\n",
    "    return [\n",
    "        (key[3] + (a//key[0] + b)) % p,\n",
    "        (key[1] + key[0]) % p,\n",
    "        (key[2] + key[0]) % p,\n",
    "        (key[3] + key[0]) % p\n",
    "    ]\n",
    "\n",
    "def fourthLayer(key, block):\n",
    "    return [\n",
    "        (block[0] - key[0]) % p,\n",
    "        (block[1] - key[1]) % p,\n",
    "        (block[2] - key[2]) % p,\n",
    "        (block[3] - key[3]) % p,\n",
    "    ]\n",
    "\n",
    "def thirdLayer(t, block, p):\n",
    "    return [\n",
    "        (t[0] * block[0] + t[1] * block[2]) % p,\n",
    "        (t[0] * block[1] + t[1] * block[3]) % p,\n",
    "        (t[2] * block[0] + t[3] * block[2]) % p,\n",
    "        (t[2] * block[1] + t[3] * block[3]) % p,\n",
    "    ]\n",
    "\n",
    "def secondLayer(block):\n",
    "    return [\n",
    "        block[0],\n",
    "        block[1],\n",
    "        block[3],\n",
    "        block[2]\n",
    "    ]\n",
    "\n",
    "def firstLayer(block, a, b, p):\n",
    "    returnblock = [b, b, b, b]\n",
    "    if block[0] != 0: returnblock[0] = (block[0]//a - b) % p\n",
    "    if block[1] != 0: returnblock[1] = (block[1]//a - b) % p\n",
    "    if block[2] != 0: returnblock[2] = (block[2]//a - b) % p\n",
    "    if block[3] != 0: returnblock[3] = (block[3]//a - b) % p\n",
    "    else: returnblock[3] = b\n",
    "    return returnblock"
   ]
  },
  {
   "cell_type": "code",
   "execution_count": 46,
   "metadata": {},
   "outputs": [
    {
     "name": "stdout",
     "output_type": "stream",
     "text": [
      "*Ý\u0013Ü\n",
      "\u001dĖã\n",
      "ħD)\n",
      "ĈfÈr\n",
      "È>o\n",
      "Íj\n",
      "ÙY¨\n",
      "\u0006Đĭ\n",
      "ĔĆ\u001aĭ\n",
      "ĸÉâ\n",
      "ö½ĄĴ\n",
      "%ºû\n",
      "ôTt­\n",
      "%ĝ\n",
      "ĝuÇĺ\n",
      "</Ĕ>\n",
      "}ĝ\n",
      ")\n",
      "\u001cO0Ģ\n",
      "ıÝÅÜ\n",
      "{u·Ļ\n",
      "GÑ\n",
      "!Mù\n",
      "ĉr©\n",
      "ú¤æm\n",
      "\u0004tķU\n",
      "\u0019Ĵ§\n",
      "½ĝ)\n",
      "Ĉ¢Çę\n",
      "aFĹ\n",
      "ĶP\u0019\n",
      "Ď\u0012ĺÐ\n",
      "y|ĝ\n",
      "ĉ/q=\n",
      "ĄAæ\u0003\n",
      "6¡¢3\n",
      "ĹĪĩ\n",
      "jBê\n",
      "ÞÉģÜ\n",
      "AĢ ñ\n"
     ]
    }
   ],
   "source": [
    "ciphertext = [[151, 312, 240, 249], [123, 9, 177, 315], [21, 307, 211, 109], [316, 18, 5, 202], [309, 207, 72, 92], \n",
    "[246, 157, 32, 196], [287, 218, 123, 33], [267, 136, 46, 281], [298, 15, 22, 187], [12, 122, 241, 224], [94, 314, 299, 252], \n",
    "[81, 226, 223, 93], [242, 259, 6, 20], [107, 148, 135, 218], [233, 284, 90, 287], [152, 308, 15, 300], [162, 308, 123, 297], \n",
    "[314, 9, 299, 281], [288, 34, 171, 233], [32, 193, 15, 277], [235, 1, 40, 245], [249, 116, 92, 145], [267, 28, 140, 255], \n",
    "[82, 140, 88, 218], [159, 313, 136, 299], [314, 236, 207, 98], [117, 143, 21, 129], [139, 266, 233, 93], [128, 104, 204, 157], \n",
    "[229, 118, 73, 127], [250, 154, 294, 271], [207, 177, 26, 71], [243, 11, 252, 199], [80, 199, 158, 8], [36, 161, 43, 41], \n",
    "[85, 305, 190, 31], [104, 91, 202, 22], [210, 70, 120, 130], [18, 202, 125, 312]]\n",
    "\n",
    "p = 317\n",
    "a, b = 13, 15\n",
    "T = [1, 11, 31, 4]\n",
    "T_inverse = [190, 270, 271, 206]\n",
    "K1 = [225, 266, 130, 284]\n",
    "K2 = createSubkey(K1, a, b, p)\n",
    "K3 = createSubkey(K2, a, b, p)\n",
    "key = [K1, K2, K3]\n",
    "\n",
    "for cipherblock in ciphertext:\n",
    "    for iter in range(2, -1, -1):\n",
    "        cipherblock = firstLayer(cipherblock, a, b, p)\n",
    "        cipherblock = secondLayer(cipherblock)\n",
    "        cipherblock = thirdLayer(T_inverse, cipherblock, p)\n",
    "        cipherblock = fourthLayer(key[iter], cipherblock)\n",
    "        \n",
    "        \n",
    "        \n",
    "        \n",
    "        \n",
    "        \n",
    "    \n",
    "    print(letterize(cipherblock))\n",
    "\n",
    "\n"
   ]
  }
 ],
 "metadata": {
  "kernelspec": {
   "display_name": "Python 3.10.7 64-bit",
   "language": "python",
   "name": "python3"
  },
  "language_info": {
   "codemirror_mode": {
    "name": "ipython",
    "version": 3
   },
   "file_extension": ".py",
   "mimetype": "text/x-python",
   "name": "python",
   "nbconvert_exporter": "python",
   "pygments_lexer": "ipython3",
   "version": "3.10.7"
  },
  "orig_nbformat": 4,
  "vscode": {
   "interpreter": {
    "hash": "e7370f93d1d0cde622a1f8e1c04877d8463912d04d973331ad4851f04de6915a"
   }
  }
 },
 "nbformat": 4,
 "nbformat_minor": 2
}
