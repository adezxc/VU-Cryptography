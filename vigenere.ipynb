{
 "cells": [
  {
   "cell_type": "code",
   "execution_count": 18,
   "metadata": {},
   "outputs": [],
   "source": [
    "import string\n",
    "from collections import defaultdict\n",
    "\n",
    "abc='AĄBCČDEĘĖFGHIĮYJKLMNOPRSŠTUŲŪVZŽ'\n",
    "n=len(abc)"
   ]
  },
  {
   "cell_type": "code",
   "execution_count": 19,
   "metadata": {},
   "outputs": [],
   "source": [
    "def prepare(text):\n",
    "    text=text.upper()\n",
    "    textn=u''\n",
    "    for a in text:\n",
    "        if a in abc:\n",
    "            textn+=a\n",
    "    return textn"
   ]
  },
  {
   "cell_type": "code",
   "execution_count": 20,
   "metadata": {},
   "outputs": [],
   "source": [
    "def Vigenere(text,key): #Vigenere cipher\n",
    "    textn=prepare(text)\n",
    "    keyn=prepare(key)\n",
    "    textc=u\"\"\n",
    "    keys=[]\n",
    "   \n",
    "    lk=len(keyn)\n",
    "    for i in range(0,lk):\n",
    "        keys.append(abc.index(keyn[i]))\n",
    "    lt=len(textn)\n",
    "    for i in range(0,lt):\n",
    "        textc+=abc[(abc.index(textn[i])-keys[i%lk])%(n)]\n",
    "    return textc\n",
    "\n",
    "def VigenereAuto(text, key): \n",
    "    textn=prepare(text)\n",
    "    cipher = key + textn\n",
    "    decodedMessage = ''\n",
    "    for i in range(0, len(textn)):\n",
    "        decodedLetter = abc[(abc.index(textn[i]) - abc.index(cipher[i]))%n]\n",
    "        decodedMessage+=decodedLetter\n",
    "    return decodedMessage\n",
    "\n"
   ]
  },
  {
   "cell_type": "markdown",
   "metadata": {},
   "source": [
    "### Pirma užduotis"
   ]
  },
  {
   "cell_type": "code",
   "execution_count": 21,
   "metadata": {},
   "outputs": [
    {
     "name": "stdout",
     "output_type": "stream",
     "text": [
      "TAIBUVOITINORIGINALUNORSNIEKASNEŽINOJOKAIPTĄSŪSDREBUČIAIGALISTABILIZUOTIDANGAUSKŪNOORBITĄJAUSENIAIBUVOŽINOMIGRAVITORIAIĮRENGINIAISUKURIANTYSDIRBTINIUSJĖGOSIRGRAVITACIJOSLAUKUSBETNIEKASNETNEĮSIVAIZDAVOKAIPAMORFINĖKOŠĖGALIPASIEKTIREZULTATĄKURISGRAVITORIUOSEGAUNAMASPERSUDĖTINGASBRANDUOLINESREAKCIJASIRMILŽINIŠKOJETEMPERATŪROJEČIABUVOREMIAMASILEŠATELJĖDĖSNIUKAIPATKIRTISTAMKONSERVATYVIZMUIRADOSIKITŲHIPOTEZIŲPAVYZDŽIUIVIENAIŠGERIAUSIAIIŠGVILDENTŲČIVITAVITOHIPOTEZĖKURISKELBĖKADOKEANASYRADIALEKTINIOIŠSIVYSTYMOPASĖKA\n"
     ]
    }
   ],
   "source": [
    "input = \"\"\"\n",
    "YEŠNE OFMDV ŽHHMR VŽSEA ŽDBYĖ \n",
    "MMĄIY ĖIHVŽ HČUŪL ŠIYĘC ĮCŪHI \n",
    "YHKCP MRLVC IŽINŠ ĖĄČED DCUEŽ \n",
    "ŲILIR ĖČAHH ĖŠGĮE PACSŽ CPMYH \n",
    "FHOMŽ DZCŽŪ IYŠKF ŪŠLŠČ HIŽŲŠ \n",
    "GĄEŠĖ EĘJŪŠ LŽKCV LVBTY MŽVEY \n",
    "ČYRDC CHKBL FCYEJ VŲHIS IHŪLI \n",
    "ĖMGŽC ŲRIĖŽ VYTMZ CCMEŠ JLSMU \n",
    "ŪLŠIP ŠAĘPC ĖYŪDČ ŽŽEVV ĄSIMM \n",
    "ĄDCHI GHVKP ŽĮĄEĮ ĄVRĘI OĄŽAĘ \n",
    "ŠLFVM ŲILĖE ZLCIŲ ŪCHLŽ YMŽŲI \n",
    "YSŪIČ LLFSŠ ČMYHI IĄJCČ ECVBF \n",
    "ĄSHVŽ CĮRAA MKŲŠĄ SBSYB BDŲVT \n",
    "MINEO FŪMCŠ SĘECV VVĮED SVEVH \n",
    "OĖŽCJ RIVĄS YRŠĘD CIŽIC ŪHĖVM \n",
    "ĘFSYO FVGFJ MBLLH IMŪVD MAMĄD \n",
    "DVNMĘ EIOCČ LKŠLĄ CŠSŽS ĄZRSB \n",
    "CPACV ICĄZR YŠĖUI ŽGĘŲĄ CŠGIO \n",
    "ĄŽAŪŠ IFŽMJ OĘJŪŠ ĖŪVEĖ OĄIŪF \n",
    "RMLŽS IOBLL CPSMĄ DCĖMA VČYĄC \n",
    "UĖDDĘ UĄLCŽ DE    \n",
    "\"\"\"\n",
    "\n",
    "sanitizedInput = input.translate({ord(c): None for c in string.whitespace})\n",
    "\n",
    "print(Vigenere(input, 'PEILIS'))"
   ]
  },
  {
   "cell_type": "markdown",
   "metadata": {},
   "source": [
    "### Second task"
   ]
  },
  {
   "cell_type": "code",
   "execution_count": 22,
   "metadata": {},
   "outputs": [
    {
     "name": "stdout",
     "output_type": "stream",
     "text": [
      "VAMZDINISKORIDORIUSBUVOTUŠČIASAŠPASTOVĖJAUVALANDĖLĘKLAUSYDAMASISPRIEŠUŽDARASDURISSIENŲMATYTBŪTAPLONŲGIRDĖJOSIKAIPLAUKEVIRKAUJAVĖJASANTDURŲĮKYPAIKABOJOATSAINIARANKAPRILIPINTASPLEISTROLOPASSUUŽRAŠUPIEŠTUKUŽMOGUSŽIŪRĖJAUĮTANEAIŠKIAIIŠKEVERZOTĄŽODĮBUVAUBENORĮSGRĮŽTIPASSNAUTĄBETSUPRATAUKADTAINEĮMANOMA\n"
     ]
    }
   ],
   "source": [
    "input = \"\"\"\n",
    "JIŠPZ IGZCR HJIŪE BMLKB LJAŽL \n",
    "LČCMC EJYAY HACŽĖ ALJIS SIDŽC \n",
    "NRĖTU YALEF TSCFĄ ŪCŽŠL LLEĮT \n",
    "SŪIBM YKIVD ĘŠSMY KOĖŽS YLHDĘ \n",
    "KCJDŽ ĄAVCF ACĘVE LFEOZ BRSNJ \n",
    "SJOPS KAGHL AĮOĮĘ AĄECF ATEŲU \n",
    "SMSSZ ŽMSJA GBIŲĮ DLCĘŠ TKTSI \n",
    "CMMYM RHCAŲ SKSLI HŪSLU IZMZK \n",
    "NKLLZ UĄNSR ZĖŪŽĖ ALŽDE GŽACG \n",
    "ŪMSDI JBMCV JZHHĮ DHZĮT IFELŲ \n",
    "EGEBN YCRČL DMITS YDIAK UBVHC \n",
    "AIJAK MERSZ TSZŽI ČHAGE ZE\n",
    "\"\"\"\n",
    "\n",
    "sanitizedInput = input.translate({ord(c): None for c in string.whitespace})\n",
    "\n",
    "print(Vigenere(input, 'MIESTAS'))"
   ]
  },
  {
   "cell_type": "markdown",
   "metadata": {},
   "source": [
    "### Third task"
   ]
  },
  {
   "cell_type": "code",
   "execution_count": 23,
   "metadata": {},
   "outputs": [
    {
     "name": "stdout",
     "output_type": "stream",
     "text": [
      "NEBUVONIEKOTOKSPATTIKMAŽĖLESNISIŠGAUBTASLANGASŽVELGĖĮOKEANĄKURISČIASAULĖJERIEBIAIBLIZGĖJOTARSINUOBANGŲBŪTŲVARVĖJUSIRAUDONAALYVAPURPURINIAIATSPINDŽIAIBUVOUŽTVINDĘVISĄKAMBARĮPANAŠŲĮGARLAIVIOKAJUTĘVIENOJEPUSĖJESTOVĖJOLENTYNOSSUKNYGOMISTARPJŲVERTIKALIAIPRITVIRTINTAPRIESIENOSLOVAKITOJEPUSĖJEBUVOPILNASPINTELIŲTARPJŲKABOJONIKELINIUOSERĖMELIUOSEJUOSTOMISSUKLIJUOTOSPLANETOSNUOTRAUKOSMETALINIUOSELAIKIKLIUOSEVATAUŽKAMŠYTOSKOLBOSIRMĖGINTUVĖLIAIPALANGĖJRIOGSOJODVIEILĖSBALTŲEMALIUOTŲDĖŽIŲTARPJŲTEGALĖJAIPRAEITIVARGAISNEGALAISDUAPARATAIDRAUGESUKAUKĖMISKABOJOANTPAKELTOSLOVOSATRAMOSVISURVIEŠPATAVOTOKSPATTARSIPASKUBOMAPTVARKYTASCHAOSASĮTRAUKIAUOROIRUŽUODŽIAUSILPNĄCHEMINIŲREAGENTŲKVAPĄATSIDUODANTĮKAŽKUOAŠTRIUARGITAIBŪTŲCHLORASNEJUČIAPAIEŠKOJAUAKIMISPALUBĖSKERTĖSEVENTILIACIJOSGROTELIŲPRILIPDYTOSPRIEJŲRĖMELIŲPOPIERIAUSJUOSTELĖSIŠLĖTOPLEVENORODYDAMOSKADKOMPRESORIAIVEIKIAPALAIKYDAMINORMALIĄOROCIRKULIACIJĄDARKARTĄAPŽVELGIAUVISĄKAMBARĮPATIKRINAUARDURYSGERAIUŽTRENKTOSOKADANGISPYNOSNEBUVOKIEKPADVEJOJĘSPRISTŪMIAUPRIEJŲDVISUNKIAUSIASDĖŽESŠITAIPPROVIZORIŠKAIUŽSIBARIKADAVĘSTRIMTRŪKTELĖJIMAISIŠSIVADAVAUIŠSAVOSUNKAUSGIRGŽDANČIOAPVALKALOSIAURASVEIDRODISSPINTOSVIDUJEATSPINDĖJODALĮKAMBARIOAKIESKAMPUIŠVYDAUKADTENKAŽKASSUJUDĖJOPAŠOKAUBETTAIBUVOMANOPATIESATSPINDYSTRIKOPOSKAFANDRUBUVOPERMERKTASPRAKAITO\n"
     ]
    }
   ],
   "source": [
    "input = \"\"\"\n",
    "DMĖLR OGZMR HMOĘF ĄEKMI ĘČIDŽ \n",
    "GEYDŠ VCLGS IYŽSK LSDRE YŠVVC \n",
    "RYČĮK VMŽĘĘ NRCFK MSKAL COPVJ \n",
    "IVOŠE CŲLCK RYEĮT SĖCMG NOTMŽ \n",
    "KMŲŪK ĮFEĮR ĖEICM ĮTUŪE ŽESGY \n",
    "OMĄAĮ YUĮZŽ MSDAK FĄMGZ ŽCMŠĖ \n",
    "LROLL DCCID ZJŠVŠ FAFOI ŪČYAG \n",
    "MČĄČC AĮCIM ODOĘM ŲAKAV CŠŽUE \n",
    "ŽPLFO PVKTH JOPHG EGHUT HKSLB \n",
    "ŽOĄĮM CFDEĮ YJMJM ŪKDKS CŠECY \n",
    "RCHFM ĮMIGH IŲĮDE YZMTH KLHJI \n",
    "RCMOE ŠĄAYĄ JVOEC HYIĖD IVIDN \n",
    "KŠVMM MAĮĘŲ ĄĘTBH ĄATCF EĖZŽM \n",
    "LĮSVĖ OŠVGI LECIE NOYHA ŠCKSL \n",
    "BVMEN OKECŲ ĖTNVH AVGNO KĖIAĘ \n",
    "ĮSFŠD EĖDNC IAVVG ACBŠR ĖDUHF \n",
    "MCSMA LLŪEF LYKEC RHGBH FŠŪFĄ \n",
    "GCDDA OĄLCM ŠŲSGA GŪOPĮ DOĄFA \n",
    "PHZVC ŠŠSŽK BSCDĄ VHAĖZ EUKOD \n",
    "ŽLŠĄK TRIĄĘ ŽVCAĖ UŲECY RSŠŠŽ \n",
    "CRAĮŪ IMYIE ĄMVEC KDLMĄ EĮTTS \n",
    "ZLŪSN GVFER SNKŽČ ŠVĘTB HĄAEG \n",
    "MPSBM SKĮSĖ EFUYT TĮMZU YRIYI \n",
    "BCCŽŠ IMDEO ĮTHBC ŲSMTS ĖCMIT \n",
    "SĘIYU FTPKJ IŪĘĘT SFJLS ĮSSFT \n",
    "ŽĮTUĘ ZIAHJ OCĖED LĮDRZ IAYDL \n",
    "IDĮFB ŽMCDŠ ĄĮŽAĄ ŠŽŽMF VSĘĮE \n",
    "KKIŪI AHSIT ČBIDĘ NOSGD ŪCNAĮ \n",
    "ŪŠŽSD BNHĘF BGOĮM CTVĖU ŲZIŲS \n",
    "DEJBA PSNAĘ ZZMYY AĖIYY YFEĮH \n",
    "OVVRE GHŠSC TCCĄA VĄJOK ŠVMMY \n",
    "RCCŠŲ ŪĘTHF ĄŪCŽJ MĖOŠV GIMĘA \n",
    "ŲCŽRC MEVEN OYHMS ŽKIJC OŽHYL \n",
    "VJMTH JOŪAL EFĮSĘ MLRHH PĮŠCU \n",
    "ĮDACJ MMĘDA IMVEC FYŪMZ MGĮRF \n",
    "MVMŠĮ RHPŠŪ ĘNLCM JMEUD SĖŪEĮ \n",
    "MĄSĘH CVGGC MECCK ĄĘMZĖ SJĮIM \n",
    "DMĘJI GMEEĮ ZUĮAC KVJAC IHŽĮŽ \n",
    "NĘHAV HFAŪM ŽKCKP DDAVG ŽBLJA \n",
    "RCŽKI MLCVĖ OETCŲ ĮDSKY ZMSNP \n",
    "ĮZMPM ZVCFE TĘDAL FŠEYZ ĖRŠCZ \n",
    "CMACĘ ĄŪHRI PEBMJ FACIH VCŲAĮ \n",
    "ZŪEŪT VZFDŪ CHTĮY ŪŽVGĖ EZZEC \n",
    "KIJFŠ CSZAO MEMJK AOECA GFALF \n",
    "RMĮCŽ ŪMŽGC ĮAIJI SĘTLH FŠELJ \n",
    "AYJMM ŪJOŪZ CVIDN KECCC ZUEŠI \n",
    "ŽYYIG SOPHZ AĖŽŪE FŲAĮZ AEĘDE \n",
    "YBIŠI NIJJU HSNKS SDIGF ARBIV \n",
    "YNJLS OPHYA JEŪEL ŲEKHI MTNVH \n",
    "ČITHY AKZMV SMSIZ ŽHDKT ĮZŪUI \n",
    "ĮSĘMP EGZRL OECHY EĮČMŪ ĘMAYĘ \n",
    "BEĘTI KE\n",
    "\"\"\"\n",
    "\n",
    "sanitizedInput = input.translate({ord(c): None for c in string.whitespace})\n",
    "\n",
    "print(Vigenere(input, 'MIESTAS'))"
   ]
  },
  {
   "cell_type": "code",
   "execution_count": 24,
   "metadata": {},
   "outputs": [
    {
     "name": "stdout",
     "output_type": "stream",
     "text": [
      "MANDINGTELĖJOKADBŪTŲNEPROŠALTURĖTIKOKĮGINKLĄŽINOMAUNIVERSALUSPIEŠTUKAMSDROŽTIPEILIUKASČIANETIKOTAČIAUNIEKOKITOAŠNETURĖJAUMANOBŪSENABUVODARNETOKIAKADIMČIAUIEŠKOTISPINDULIŲSVAIDYTOJOARKOPANAŠAUSATSISĖDAUANTMETALINĖSKĖDUTĖSVIDURYTUŠČIOSERDVĖSATOKIAINUOVISŲDAIKTŲNORĖJAUPABŪTIPATSVIENAS\n"
     ]
    }
   ],
   "source": [
    "input = \"\"\"\n",
    "ŪAFŪI GETJĮ OTUFJ MRPNČ BŠHHĘ \n",
    "ŪBFČD VČŲPO TĮLDĄ ĘFZMČ ĮUVKM \n",
    "ZAEUR ĖPASO ĮVĄEJ ĮĘĮĄŠ EMVĄA \n",
    "LMĘCĮ LVISC ČPFIG FVĄTA CFĄĮT \n",
    "URPĘV ĮGBYŲ VDVĖĘ PNĮIĖ ĄĘNAA \n",
    "GVZTN AISŲĮ ŠABGĄ EIKYG LELŪA \n",
    "YVEHĖ EEĮUČ OVŲTĮ FYYĘO ČEYUI \n",
    "BVUVY IŠĮYM YŽŠDY IDŽLŪ UCĮČL \n",
    "RURER SJUĘM FŽEGJ SCŠYĄ ICĖMČ \n",
    "JDVAR KCŪCR ŲĮHNC JJVSN JBFLO \n",
    "ŽEVYL AJŽŠĄ DRSYŠ ŲURTG LĘJRM \n",
    "ĄYNPF MŠ\n",
    "\"\"\"\n",
    "\n",
    "sanitizedInput = input.translate({ord(c): None for c in string.whitespace})\n",
    "\n",
    "print(VigenereAuto(input, 'GARSAS'))"
   ]
  }
 ],
 "metadata": {
  "kernelspec": {
   "display_name": "Python 3.10.6 64-bit",
   "language": "python",
   "name": "python3"
  },
  "language_info": {
   "codemirror_mode": {
    "name": "ipython",
    "version": 3
   },
   "file_extension": ".py",
   "mimetype": "text/x-python",
   "name": "python",
   "nbconvert_exporter": "python",
   "pygments_lexer": "ipython3",
   "version": "3.10.7"
  },
  "orig_nbformat": 4,
  "vscode": {
   "interpreter": {
    "hash": "767d51c1340bd893661ea55ea3124f6de3c7a262a8b4abca0554b478b1e2ff90"
   }
  }
 },
 "nbformat": 4,
 "nbformat_minor": 2
}
